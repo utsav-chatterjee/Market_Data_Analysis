{
 "cells": [
  {
   "cell_type": "markdown",
   "metadata": {},
   "source": [
    "###### The objective of this program is the following:\n",
    "1. Extract monthly market data for 10 tickers from Alpha Vantage API\n",
    "2. Isolate Close prices and develop a function that accepts prices, sector, date, top number of prices and returns top industries for that date."
   ]
  },
  {
   "cell_type": "markdown",
   "metadata": {},
   "source": [
    "###### Activating code auto-complete"
   ]
  },
  {
   "cell_type": "code",
   "execution_count": 164,
   "metadata": {},
   "outputs": [],
   "source": [
    "%config IPCompleter.greedy=True"
   ]
  },
  {
   "cell_type": "markdown",
   "metadata": {},
   "source": [
    "###### Importing Libraries"
   ]
  },
  {
   "cell_type": "code",
   "execution_count": 163,
   "metadata": {},
   "outputs": [],
   "source": [
    "from alpha_vantage.timeseries import TimeSeries\n",
    "import time\n",
    "import pandas as pd"
   ]
  },
  {
   "cell_type": "markdown",
   "metadata": {},
   "source": [
    "###### Parsing API Key from credentials file"
   ]
  },
  {
   "cell_type": "code",
   "execution_count": null,
   "metadata": {},
   "outputs": [],
   "source": [
    "with open(\"api_key.cred\", \"r\") as cred_file:\n",
    "    for line in cred_file:\n",
    "        api_key = line.split(\"=\")[1]"
   ]
  },
  {
   "cell_type": "markdown",
   "metadata": {},
   "source": [
    "###### Storing List of Tickers and Connecting to the API"
   ]
  },
  {
   "cell_type": "code",
   "execution_count": null,
   "metadata": {},
   "outputs": [],
   "source": [
    "# List of companies\n",
    "list_companies = ['AAPL','MSFT','AMZN','FB','BRK.B','JNJ','GOOG','JPM','V','PG']\n",
    "\n",
    "# Chose your output format, or default to JSON (python dict)\n",
    "ts = TimeSeries(api_key, output_format='pandas')\n",
    "ti = TechIndicators(api_key)\n"
   ]
  },
  {
   "cell_type": "markdown",
   "metadata": {},
   "source": [
    "###### Defining Sector for Tickers"
   ]
  },
  {
   "cell_type": "code",
   "execution_count": null,
   "metadata": {},
   "outputs": [],
   "source": [
    "# Sector for each company\n",
    "dict_sector = {'AAPL':'Technology','MSFT':'Technology', 'AMZN':'Retail',\n",
    "               'FB':'Technology','BRK.B':'Financial Services','JNJ':'Pharmaceuticals',\n",
    "               'GOOG':'Technology','JPM':'Financial Services','V':'Financial Services',\n",
    "                'PG':'Industrial'}\n",
    "\n",
    "sector_data = []\n",
    "for k,v in dict_sector.items():\n",
    "    sector_data.append(v)\n",
    "    \n",
    "s_sector = pd.Series(data = sector_data, index = list_companies)\n",
    "s_sector\n",
    "    "
   ]
  },
  {
   "cell_type": "markdown",
   "metadata": {},
   "source": [
    "###### Extracting Data for each Ticker from API"
   ]
  },
  {
   "cell_type": "code",
   "execution_count": null,
   "metadata": {},
   "outputs": [],
   "source": [
    "df_list = []\n",
    "for company in list_companies:\n",
    "    data, metadata = ts.get_monthly(symbol=company)\n",
    "    data = pd.DataFrame(data['4. close'])\n",
    "    data.rename(columns = {'4. close':company}, inplace = True)\n",
    "    df_list.append(data)\n",
    "#     print(df_list)\n",
    "    time.sleep(21)\n",
    "    "
   ]
  },
  {
   "cell_type": "markdown",
   "metadata": {},
   "source": [
    "###### Concatenating Ticker Outputs to form final DataFrame"
   ]
  },
  {
   "cell_type": "code",
   "execution_count": null,
   "metadata": {
    "scrolled": true
   },
   "outputs": [],
   "source": [
    "df_prices = pd.concat(df_list,axis=1,sort=True)\n",
    "df_prices\n",
    "# for i in df_prices.index:\n",
    "#     print(i)"
   ]
  },
  {
   "cell_type": "markdown",
   "metadata": {},
   "source": [
    "###### Testing lookups against sector series [DEV]"
   ]
  },
  {
   "cell_type": "code",
   "execution_count": 167,
   "metadata": {},
   "outputs": [
    {
     "data": {
      "text/plain": [
       "['Financial Services', 'Industrial']"
      ]
     },
     "execution_count": 167,
     "metadata": {},
     "output_type": "execute_result"
    }
   ],
   "source": [
    "# close prices for all tickers on given date\n",
    "df_prices.loc['2004-02-27']\n",
    "\n",
    "# tickers with highest 2 close prices\n",
    "list(df_prices.loc['2004-02-27'].nlargest(2).index)\n",
    "\n",
    "# looking up against sector series\n",
    "list(s_sector.loc[list(df_prices.loc['2004-02-27'].nlargest(2).index)])"
   ]
  },
  {
   "cell_type": "markdown",
   "metadata": {},
   "source": [
    "###### Defining Final Function"
   ]
  },
  {
   "cell_type": "code",
   "execution_count": null,
   "metadata": {},
   "outputs": [],
   "source": [
    "def date_top_industries(prices, sector, date, top_n):\n",
    "    \"\"\"\n",
    "    Get the set of the top industries for the date\n",
    "    \n",
    "    Parameters\n",
    "    ----------\n",
    "    prices : DataFrame\n",
    "        Prices for each ticker and date\n",
    "    sector : Series\n",
    "        Sector name for each ticker\n",
    "    date : Date\n",
    "        Date to get the top performers\n",
    "    top_n : int\n",
    "        Number of top performers to get\n",
    "    \n",
    "    Returns\n",
    "    -------\n",
    "    top_industries : set\n",
    "        Top industries for the date\n",
    "    \"\"\"\n",
    "    # TODO: Implement Function\n",
    "    close_prices = prices.loc[date]\n",
    "    top_n_tickers = list(close_prices.nlargest(top_n).index)\n",
    "    sector_lookup = sector.loc[top_n_tickers]\n",
    "    \n",
    "    return set(sector_lookup)"
   ]
  },
  {
   "cell_type": "markdown",
   "metadata": {},
   "source": [
    "###### Calling Final Function"
   ]
  },
  {
   "cell_type": "code",
   "execution_count": null,
   "metadata": {},
   "outputs": [],
   "source": [
    "date_top_industries(df_prices, s_sector, '2008-09-30', 2)"
   ]
  }
 ],
 "metadata": {
  "kernelspec": {
   "display_name": "Python 3",
   "language": "python",
   "name": "python3"
  },
  "language_info": {
   "codemirror_mode": {
    "name": "ipython",
    "version": 3
   },
   "file_extension": ".py",
   "mimetype": "text/x-python",
   "name": "python",
   "nbconvert_exporter": "python",
   "pygments_lexer": "ipython3",
   "version": "3.7.6"
  }
 },
 "nbformat": 4,
 "nbformat_minor": 4
}
